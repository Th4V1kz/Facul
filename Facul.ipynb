{
  "nbformat": 4,
  "nbformat_minor": 0,
  "metadata": {
    "colab": {
      "provenance": [],
      "authorship_tag": "ABX9TyOgXlYXuJVWGtrplof4sWzE",
      "include_colab_link": true
    },
    "kernelspec": {
      "name": "python3",
      "display_name": "Python 3"
    },
    "language_info": {
      "name": "python"
    }
  },
  "cells": [
    {
      "cell_type": "markdown",
      "metadata": {
        "id": "view-in-github",
        "colab_type": "text"
      },
      "source": [
        "<a href=\"https://colab.research.google.com/github/Th4V1kz/Facul/blob/main/Facul.ipynb\" target=\"_parent\"><img src=\"https://colab.research.google.com/assets/colab-badge.svg\" alt=\"Open In Colab\"/></a>"
      ]
    },
    {
      "cell_type": "code",
      "execution_count": 4,
      "metadata": {
        "colab": {
          "base_uri": "https://localhost:8080/"
        },
        "id": "JUhnVwczf-xW",
        "outputId": "4bd80970-3615-461c-9da2-22ddc798582b"
      },
      "outputs": [
        {
          "output_type": "stream",
          "name": "stdout",
          "text": [
            "<class 'int'>\n",
            "<class 'str'>\n",
            "<class 'float'>\n",
            "<class 'bool'>\n"
          ]
        }
      ],
      "source": [
        "x = 10\n",
        "\n",
        "nome = 'aluno'\n",
        "\n",
        "nota = 8.75\n",
        "\n",
        "fez_inscricao = True\n",
        "\n",
        "print(type(x))\n",
        "\n",
        "print(type(nome))\n",
        "\n",
        "print(type(nota))\n",
        "\n",
        "print(type(fez_inscricao))"
      ]
    },
    {
      "cell_type": "code",
      "source": [
        "nome = input(\"digite o nome\")\n",
        "\n",
        "print(f\"olá {nome} parabens pelo seu esforço !\")"
      ],
      "metadata": {
        "colab": {
          "base_uri": "https://localhost:8080/"
        },
        "id": "Ec5LriDDhTOl",
        "outputId": "b77093cb-7c10-4892-8e02-13c624df4ce0"
      },
      "execution_count": 8,
      "outputs": [
        {
          "output_type": "stream",
          "name": "stdout",
          "text": [
            "digite o nomevictor\n",
            "olá victor parabens pelo seu esforço !\n"
          ]
        }
      ]
    },
    {
      "cell_type": "code",
      "source": [
        " \n",
        "operacao_1 = 2 + 3 * 5\n",
        "\n",
        "\n",
        " # Qual o resultado armazendo na variável operacao_2: 25 ou 17? \n",
        "\n",
        "operacao_2 = (2 + 3) * 5\n",
        "\n",
        "\n",
        " # Qual o resultado armazendo na variável operacao_3: 4 ou 1?\n",
        "\n",
        "operacao_3 = 4 / 2 ** 2\n",
        "\n",
        "\n",
        " # Qual o resultado armazendo na variável operacao_4: 1 ou 5?\n",
        "\n",
        "operacao_4 = 13 % 3 + 4\n",
        "\n",
        "\n",
        "print(f\"Resultado em operacao_1 = {operacao_1}\")\n",
        "\n",
        "print(f\"Resultado em operacao_2 = {operacao_2}\")\n",
        "\n",
        "print(f\"Resultado em operacao_3 = {operacao_3}\")\n",
        "\n",
        "print(f\"Resultado em operacao_4 = {operacao_4}\")"
      ],
      "metadata": {
        "colab": {
          "base_uri": "https://localhost:8080/"
        },
        "id": "TBJ53vMmh9Np",
        "outputId": "86316bf9-2015-4af8-fd5e-d822c0b0af65"
      },
      "execution_count": 9,
      "outputs": [
        {
          "output_type": "stream",
          "name": "stdout",
          "text": [
            "Resultado em operacao_1 = 17\n",
            "Resultado em operacao_2 = 25\n",
            "Resultado em operacao_3 = 1.0\n",
            "Resultado em operacao_4 = 5\n"
          ]
        }
      ]
    },
    {
      "cell_type": "code",
      "source": [
        "a = 2\n",
        "b = 0.5\n",
        "c = 1\n",
        "x = input(\"digite um valor\")\n",
        "x = int(x)\n",
        "\n",
        "y = a * x**2 + b*x + c\n",
        "print(y)"
      ],
      "metadata": {
        "colab": {
          "base_uri": "https://localhost:8080/"
        },
        "id": "INQBWrm-jcRl",
        "outputId": "4a728c2c-95ef-4d96-d8cd-d201ce7c84cc"
      },
      "execution_count": 13,
      "outputs": [
        {
          "output_type": "stream",
          "name": "stdout",
          "text": [
            "digite um valor5\n",
            "53.5\n"
          ]
        }
      ]
    },
    {
      "cell_type": "code",
      "source": [
        "#mes_1=200\n",
        "#mes_2=400\n",
        "#mes_3=600\n",
        "#mes_4=800\n",
        "#mes_5=1000\n",
        "#mes_6=1200\n",
        "#relatório de vendas mostrando uma progressão de 200 peças a mais por mês\n",
        "#temos então uma PA\n",
        "#200*o numero correspondente do mês\n",
        "#lets code\n",
        "month = input(\"Digite o numero do mes, cujo qual é estipulado pelo tempo desde o inicio da vendas (janeiro)\")\n",
        "month = int(month)\n",
        "projection = month * 200\n",
        "print(f\"Seguindo a projeção baseada na analise dos dados no mês de número {month} a projeção de peças vendidas será de {projection}\")\n",
        "\n",
        "#tambem posso usar uma função do primeiro grau onde a função sera r=c*mes, onde r é o resultado e c é a constante \n",
        "\n"
      ],
      "metadata": {
        "colab": {
          "base_uri": "https://localhost:8080/"
        },
        "id": "x3eR_iAVmCBc",
        "outputId": "70ccd13d-8c38-4e21-87f3-81a4e7c3b211"
      },
      "execution_count": 16,
      "outputs": [
        {
          "output_type": "stream",
          "name": "stdout",
          "text": [
            "Digite o numero do mes, cujo qual é estipulado pelo tempo desde o inicio da vendas (janeiro)27\n",
            "Seguindo a projeção baseada na analise dos dados no mês de número 27 a projeção de peças vendidas será de 5400\n"
          ]
        }
      ]
    },
    {
      "cell_type": "code",
      "source": [],
      "metadata": {
        "id": "VX5M_LzSncMO"
      },
      "execution_count": null,
      "outputs": []
    }
  ]
}