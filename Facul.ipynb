{
  "nbformat": 4,
  "nbformat_minor": 0,
  "metadata": {
    "colab": {
      "provenance": [],
      "authorship_tag": "ABX9TyO7vN/ZIwV6ad5RvvOlmURT",
      "include_colab_link": true
    },
    "kernelspec": {
      "name": "python3",
      "display_name": "Python 3"
    },
    "language_info": {
      "name": "python"
    }
  },
  "cells": [
    {
      "cell_type": "markdown",
      "metadata": {
        "id": "view-in-github",
        "colab_type": "text"
      },
      "source": [
        "<a href=\"https://colab.research.google.com/github/Th4V1kz/Facul/blob/main/Facul.ipynb\" target=\"_parent\"><img src=\"https://colab.research.google.com/assets/colab-badge.svg\" alt=\"Open In Colab\"/></a>"
      ]
    },
    {
      "cell_type": "code",
      "execution_count": null,
      "metadata": {
        "colab": {
          "base_uri": "https://localhost:8080/"
        },
        "id": "JUhnVwczf-xW",
        "outputId": "4bd80970-3615-461c-9da2-22ddc798582b"
      },
      "outputs": [
        {
          "output_type": "stream",
          "name": "stdout",
          "text": [
            "<class 'int'>\n",
            "<class 'str'>\n",
            "<class 'float'>\n",
            "<class 'bool'>\n"
          ]
        }
      ],
      "source": [
        "x = 10\n",
        "\n",
        "nome = 'aluno'\n",
        "\n",
        "nota = 8.75\n",
        "\n",
        "fez_inscricao = True\n",
        "\n",
        "print(type(x))\n",
        "\n",
        "print(type(nome))\n",
        "\n",
        "print(type(nota))\n",
        "\n",
        "print(type(fez_inscricao))"
      ]
    },
    {
      "cell_type": "code",
      "source": [],
      "metadata": {
        "id": "flzpvH9VU0BI"
      },
      "execution_count": null,
      "outputs": []
    },
    {
      "cell_type": "code",
      "source": [
        "nome = input(\"digite o nome\")\n",
        "\n",
        "print(f\"olá {nome} parabens pelo seu esforço !\")"
      ],
      "metadata": {
        "colab": {
          "base_uri": "https://localhost:8080/"
        },
        "id": "Ec5LriDDhTOl",
        "outputId": "b77093cb-7c10-4892-8e02-13c624df4ce0"
      },
      "execution_count": null,
      "outputs": [
        {
          "output_type": "stream",
          "name": "stdout",
          "text": [
            "digite o nomevictor\n",
            "olá victor parabens pelo seu esforço !\n"
          ]
        }
      ]
    },
    {
      "cell_type": "code",
      "source": [
        " \n",
        "operacao_1 = 2 + 3 * 5\n",
        "\n",
        "\n",
        " # Qual o resultado armazendo na variável operacao_2: 25 ou 17? \n",
        "\n",
        "operacao_2 = (2 + 3) * 5\n",
        "\n",
        "\n",
        " # Qual o resultado armazendo na variável operacao_3: 4 ou 1?\n",
        "\n",
        "operacao_3 = 4 / 2 ** 2\n",
        "\n",
        "\n",
        " # Qual o resultado armazendo na variável operacao_4: 1 ou 5?\n",
        "\n",
        "operacao_4 = 13 % 3 + 4\n",
        "\n",
        "\n",
        "print(f\"Resultado em operacao_1 = {operacao_1}\")\n",
        "\n",
        "print(f\"Resultado em operacao_2 = {operacao_2}\")\n",
        "\n",
        "print(f\"Resultado em operacao_3 = {operacao_3}\")\n",
        "\n",
        "print(f\"Resultado em operacao_4 = {operacao_4}\")"
      ],
      "metadata": {
        "colab": {
          "base_uri": "https://localhost:8080/"
        },
        "id": "TBJ53vMmh9Np",
        "outputId": "86316bf9-2015-4af8-fd5e-d822c0b0af65"
      },
      "execution_count": null,
      "outputs": [
        {
          "output_type": "stream",
          "name": "stdout",
          "text": [
            "Resultado em operacao_1 = 17\n",
            "Resultado em operacao_2 = 25\n",
            "Resultado em operacao_3 = 1.0\n",
            "Resultado em operacao_4 = 5\n"
          ]
        }
      ]
    },
    {
      "cell_type": "code",
      "source": [
        "a = 2\n",
        "b = 0.5\n",
        "c = 1\n",
        "x = input(\"digite um valor\")\n",
        "x = int(x)\n",
        "\n",
        "y = a * x**2 + b*x + c\n",
        "print(y)"
      ],
      "metadata": {
        "colab": {
          "base_uri": "https://localhost:8080/"
        },
        "id": "INQBWrm-jcRl",
        "outputId": "4a728c2c-95ef-4d96-d8cd-d201ce7c84cc"
      },
      "execution_count": null,
      "outputs": [
        {
          "output_type": "stream",
          "name": "stdout",
          "text": [
            "digite um valor5\n",
            "53.5\n"
          ]
        }
      ]
    },
    {
      "cell_type": "code",
      "source": [
        "#mes_1=200\n",
        "#mes_2=400\n",
        "#mes_3=600\n",
        "#mes_4=800\n",
        "#mes_5=1000\n",
        "#mes_6=1200\n",
        "#relatório de vendas mostrando uma progressão de 200 peças a mais por mês\n",
        "#temos então uma PA\n",
        "#200*o numero correspondente do mês\n",
        "#lets code\n",
        "month = input(\"Digite o numero do mes, cujo qual é estipulado pelo tempo desde o inicio da vendas (janeiro)\")\n",
        "month = int(month)\n",
        "projection = month * 200\n",
        "print(f\"Seguindo a projeção baseada na analise dos dados no mês de número {month} a projeção de peças vendidas será de {projection}\")\n",
        "\n",
        "#tambem posso usar uma função do primeiro grau onde a função sera r=c*mes, onde r é o resultado e c é a constante \n",
        "\n"
      ],
      "metadata": {
        "colab": {
          "base_uri": "https://localhost:8080/"
        },
        "id": "x3eR_iAVmCBc",
        "outputId": "70ccd13d-8c38-4e21-87f3-81a4e7c3b211"
      },
      "execution_count": null,
      "outputs": [
        {
          "output_type": "stream",
          "name": "stdout",
          "text": [
            "Digite o numero do mes, cujo qual é estipulado pelo tempo desde o inicio da vendas (janeiro)27\n",
            "Seguindo a projeção baseada na analise dos dados no mês de número 27 a projeção de peças vendidas será de 5400\n"
          ]
        }
      ]
    },
    {
      "cell_type": "code",
      "source": [
        "#Vamos brincar um pouco com o que aprendemos. Vamos criar uma solução que procura pelas vogais \"a\", \"e\" em um texto (somente minúsculas). \n",
        "#Toda vez que essas vogais são encontradas, devemos informar que encontramos e qual posição do texto ela está. \n",
        "\n",
        "#Nosso texto será:\n",
        "texto = \"\"\"\n",
        "A inserção de comentários no código do programa é uma prática normal. Em função disso, toda linguagem de programação tem alguma maneira de permitir que comentários sejam inseridos nos programas. O objetivo é adicionar descrições em partes do código, seja para documentá-lo ou para adicionar uma descrição do algoritmo implementado\n",
        "\"\"\"\n",
        "for i,c in enumerate(texto):\n",
        "  if c == \"a\" or c == \"e\":\n",
        "    print(f\"encontrei a letra {c} na posição {i}\") \n",
        "  else:\n",
        "    continue\n"
      ],
      "metadata": {
        "id": "VX5M_LzSncMO",
        "colab": {
          "base_uri": "https://localhost:8080/"
        },
        "outputId": "1ba06985-a77c-490e-a281-e7593c481d5f"
      },
      "execution_count": null,
      "outputs": [
        {
          "output_type": "stream",
          "name": "stdout",
          "text": [
            "encontrei a letra e na posição 6\n",
            "encontrei a letra e na posição 13\n",
            "encontrei a letra e na posição 18\n",
            "encontrei a letra a na posição 45\n",
            "encontrei a letra a na posição 47\n",
            "encontrei a letra a na posição 53\n",
            "encontrei a letra a na posição 61\n",
            "encontrei a letra a na posição 67\n",
            "encontrei a letra a na posição 91\n",
            "encontrei a letra a na posição 98\n",
            "encontrei a letra e na posição 100\n",
            "encontrei a letra e na posição 104\n",
            "encontrei a letra a na posição 111\n",
            "encontrei a letra a na posição 113\n",
            "encontrei a letra e na posição 119\n",
            "encontrei a letra a na posição 122\n",
            "encontrei a letra a na posição 127\n",
            "encontrei a letra a na posição 130\n",
            "encontrei a letra e na posição 132\n",
            "encontrei a letra a na posição 135\n",
            "encontrei a letra e na posição 138\n",
            "encontrei a letra e na posição 141\n",
            "encontrei a letra e na posição 151\n",
            "encontrei a letra e na posição 156\n",
            "encontrei a letra e na posição 166\n",
            "encontrei a letra a na posição 168\n",
            "encontrei a letra e na posição 174\n",
            "encontrei a letra a na posição 190\n",
            "encontrei a letra a na posição 192\n",
            "encontrei a letra e na posição 201\n",
            "encontrei a letra a na posição 209\n",
            "encontrei a letra a na posição 216\n",
            "encontrei a letra e na posição 220\n",
            "encontrei a letra e na posição 227\n",
            "encontrei a letra e na posição 230\n",
            "encontrei a letra a na posição 234\n",
            "encontrei a letra e na posição 237\n",
            "encontrei a letra e na posição 252\n",
            "encontrei a letra a na posição 254\n",
            "encontrei a letra a na posição 257\n",
            "encontrei a letra a na posição 259\n",
            "encontrei a letra e na posição 266\n",
            "encontrei a letra a na posição 278\n",
            "encontrei a letra a na posição 280\n",
            "encontrei a letra a na posição 282\n",
            "encontrei a letra a na posição 289\n",
            "encontrei a letra a na posição 294\n",
            "encontrei a letra e na posição 297\n",
            "encontrei a letra a na posição 309\n",
            "encontrei a letra e na posição 323\n",
            "encontrei a letra e na posição 325\n",
            "encontrei a letra a na posição 328\n"
          ]
        }
      ]
    },
    {
      "cell_type": "code",
      "source": [
        "\"\"\"\n",
        "Situação-problema\n",
        "Trabalhar em uma empresa de consultoria focada no desenvolvimento de software é desafiador, pois você pode atender difentes clientes e atuar em diferentes projetos. Embora desafiador, sem dúvida é uma experiência enriquecedora.\n",
        "Dando continuidade ao seu trabalho na empresa de consultoria de software, o cliente que fabrica peças automotivas requisitou uma nova funcionalidade para o sistema: calcular o imposto de renda a ser deduzido do salário dos colaboradores. O imposto de renda\n",
        "\"Incide sobre a renda e os proventos de contribuintes residentes no País ou residentes no exterior que recebam rendimentos de fontes no Brasil. Apresenta alíquotas variáveis conforme a renda dos contribuintes, de forma que os de menor renda não sejam alcançados pela tributação.\" (IRPF, 2020)\n",
        "Você foi designado para pesquisar a tabela de valores para o imposto de renda do ano de 2020, pensar no algoritmo e implementar a primeira versão da solução. Quando o cliente aprovar, a versão passará para o time de produção. Nessa primeira versão, o programa deve solicitar o salário do colaborador e então, informar qual o valor do imposto que será deduzido do salário.\n",
        "Já sabe qual ferramenta vai utilizar para implementar a solução? Onde buscar as informações confiáveis sobre o imposto de renda? Como implementar a solução? Faça um bom trabalho e mostre para seu gestor sua evolução!\n",
        "\"\"\"\n",
        "\n",
        "monthly_salary = float(input(\"Digite seu salário mensal:\"))\n",
        "\n",
        "if monthly_salary <=1903.98:\n",
        "  print(\"Você não tem nenhum desconto !\")\n",
        "elif monthly_salary >=1903.99 and monthly_salary <= 2826.65:\n",
        "  print(\"Seu desconto será de 7,5 % respectivamente 142,80\")\n",
        "elif monthly_salary >=2826.66 and monthly_salary <= 3751.05:\n",
        "  print(\"Seu desconto será de 15 % respectivamente 354,80\")\n",
        "elif monthly_salary >=3751.06 and monthly_salary <= 4664.68:\n",
        "  print(\"Seu desconto será de 22,5 % respectivamente 636,13\")\n",
        "else:\n",
        "  print(\"Seu desconto será de 27,5% respectivamente 869,36\")\n",
        "\n"
      ],
      "metadata": {
        "colab": {
          "base_uri": "https://localhost:8080/"
        },
        "id": "DrcfVsMVWu6t",
        "outputId": "aa200f1b-d798-4175-95ad-b6b73b14c6e2"
      },
      "execution_count": null,
      "outputs": [
        {
          "output_type": "stream",
          "name": "stdout",
          "text": [
            "Digite seu salário mensal:2698.99\n",
            "Seu desconto será de 7,5 % respectivamente 142,80\n"
          ]
        }
      ]
    }
  ]
}